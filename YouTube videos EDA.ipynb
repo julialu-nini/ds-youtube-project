{
 "cells": [
  {
   "cell_type": "code",
   "execution_count": 2,
   "id": "bf072625",
   "metadata": {},
   "outputs": [],
   "source": [
    "import numpy as np\n",
    "import matplotlib.pyplot as plt\n",
    "import seaborn as sns\n",
    "import pandas as pd\n",
    "import sklearn as sk"
   ]
  },
  {
   "cell_type": "markdown",
   "id": "24479571",
   "metadata": {},
   "source": [
    "## EDA"
   ]
  },
  {
   "cell_type": "code",
   "execution_count": 56,
   "id": "0932374b",
   "metadata": {},
   "outputs": [],
   "source": [
    "videos = pd.read_csv(\"youtube data/USvideos.csv\")\n",
    "videos['category_id'] = pd.to_numeric(videos['category_id'])\n",
    "videos['views'] = pd.to_numeric(videos['views'])\n",
    "videos['tags'] = videos['tags'].str.split('|')\n",
    "videos['like_dislike_ratio'] = videos['likes']/videos['dislikes']\n",
    "videos['like_views_ratio'] = videos['likes']/videos['views']\n",
    "videos['publish_time'] = pd.to_datetime(videos['publish_time'])"
   ]
  },
  {
   "cell_type": "code",
   "execution_count": 75,
   "id": "5874c3ef",
   "metadata": {},
   "outputs": [],
   "source": [
    "# Fix trending_date\n",
    "\n",
    "''' ==================================================IGNORE=====================================================\n",
    "videos['trending_date_split'] = videos['trending_date'].str.split('.')\n",
    "\n",
    "for i in range(len(videos['trending_date_split'])):\n",
    "    month = pd.to_numeric(videos['trending_date_split'][i][1])\n",
    "    while month > 12:\n",
    "        month -= 12\n",
    "    if month >= 10:\n",
    "        videos['trending_date_split'][i][1] = str(month)\n",
    "    else:\n",
    "        videos['trending_date_split'][i][1] = '0' + str(month)\n",
    "\n",
    "videos['trending_date'] = pd.to_datetime(videos['trending_date_split'].str.join('.'), format='%y.%d.%m', utc=True)\n",
    "'''"
   ]
  },
  {
   "cell_type": "code",
   "execution_count": 57,
   "id": "604cd286",
   "metadata": {},
   "outputs": [],
   "source": [
    "videos['trending_date'] = pd.to_datetime(videos['trending_date'], format='%y.%d.%m', utc=True)\n",
    "videos['time_till_trending'] = videos['trending_date'] - videos['publish_time']\n",
    "\n",
    "# Align datetime object format for tableau analysis\n",
    "videos['publish_time'] = videos['publish_time'].dt.strftime('%Y-%m-%dT%H:%M:%S')\n",
    "videos['trending_date'] = videos['trending_date'].dt.strftime('%Y-%m-%dT%H:%M:%S')"
   ]
  },
  {
   "cell_type": "code",
   "execution_count": 58,
   "id": "ffcb474c",
   "metadata": {},
   "outputs": [],
   "source": [
    "videos['hours_till_trending'] = videos['time_till_trending'].map(lambda x: x.total_seconds()) / 3600\n",
    "videos['days_till_trending'] = videos['time_till_trending'].map(lambda x: x.total_seconds()) / (3600*24)"
   ]
  },
  {
   "cell_type": "code",
   "execution_count": 59,
   "id": "103ec066",
   "metadata": {},
   "outputs": [
    {
     "data": {
      "text/html": [
       "<div>\n",
       "<style scoped>\n",
       "    .dataframe tbody tr th:only-of-type {\n",
       "        vertical-align: middle;\n",
       "    }\n",
       "\n",
       "    .dataframe tbody tr th {\n",
       "        vertical-align: top;\n",
       "    }\n",
       "\n",
       "    .dataframe thead th {\n",
       "        text-align: right;\n",
       "    }\n",
       "</style>\n",
       "<table border=\"1\" class=\"dataframe\">\n",
       "  <thead>\n",
       "    <tr style=\"text-align: right;\">\n",
       "      <th></th>\n",
       "      <th>trending_date</th>\n",
       "      <th>publish_time</th>\n",
       "      <th>time_till_trending</th>\n",
       "      <th>hours_till_trending</th>\n",
       "    </tr>\n",
       "  </thead>\n",
       "  <tbody>\n",
       "    <tr>\n",
       "      <th>0</th>\n",
       "      <td>2017-11-14T00:00:00</td>\n",
       "      <td>2017-11-13T17:13:01</td>\n",
       "      <td>0 days 06:46:59</td>\n",
       "      <td>6.783056</td>\n",
       "    </tr>\n",
       "    <tr>\n",
       "      <th>1</th>\n",
       "      <td>2017-11-14T00:00:00</td>\n",
       "      <td>2017-11-13T07:30:00</td>\n",
       "      <td>0 days 16:30:00</td>\n",
       "      <td>16.500000</td>\n",
       "    </tr>\n",
       "    <tr>\n",
       "      <th>2</th>\n",
       "      <td>2017-11-14T00:00:00</td>\n",
       "      <td>2017-11-12T19:05:24</td>\n",
       "      <td>1 days 04:54:36</td>\n",
       "      <td>28.910000</td>\n",
       "    </tr>\n",
       "    <tr>\n",
       "      <th>3</th>\n",
       "      <td>2017-11-14T00:00:00</td>\n",
       "      <td>2017-11-13T11:00:04</td>\n",
       "      <td>0 days 12:59:56</td>\n",
       "      <td>12.998889</td>\n",
       "    </tr>\n",
       "    <tr>\n",
       "      <th>4</th>\n",
       "      <td>2017-11-14T00:00:00</td>\n",
       "      <td>2017-11-12T18:01:41</td>\n",
       "      <td>1 days 05:58:19</td>\n",
       "      <td>29.971944</td>\n",
       "    </tr>\n",
       "    <tr>\n",
       "      <th>...</th>\n",
       "      <td>...</td>\n",
       "      <td>...</td>\n",
       "      <td>...</td>\n",
       "      <td>...</td>\n",
       "    </tr>\n",
       "    <tr>\n",
       "      <th>40944</th>\n",
       "      <td>2018-06-14T00:00:00</td>\n",
       "      <td>2018-05-18T13:00:04</td>\n",
       "      <td>26 days 10:59:56</td>\n",
       "      <td>634.998889</td>\n",
       "    </tr>\n",
       "    <tr>\n",
       "      <th>40945</th>\n",
       "      <td>2018-06-14T00:00:00</td>\n",
       "      <td>2018-05-18T01:00:06</td>\n",
       "      <td>26 days 22:59:54</td>\n",
       "      <td>646.998333</td>\n",
       "    </tr>\n",
       "    <tr>\n",
       "      <th>40946</th>\n",
       "      <td>2018-06-14T00:00:00</td>\n",
       "      <td>2018-05-18T17:34:22</td>\n",
       "      <td>26 days 06:25:38</td>\n",
       "      <td>630.427222</td>\n",
       "    </tr>\n",
       "    <tr>\n",
       "      <th>40947</th>\n",
       "      <td>2018-06-14T00:00:00</td>\n",
       "      <td>2018-05-17T17:00:04</td>\n",
       "      <td>27 days 06:59:56</td>\n",
       "      <td>654.998889</td>\n",
       "    </tr>\n",
       "    <tr>\n",
       "      <th>40948</th>\n",
       "      <td>2018-06-14T00:00:00</td>\n",
       "      <td>2018-05-17T17:09:38</td>\n",
       "      <td>27 days 06:50:22</td>\n",
       "      <td>654.839444</td>\n",
       "    </tr>\n",
       "  </tbody>\n",
       "</table>\n",
       "<p>40949 rows × 4 columns</p>\n",
       "</div>"
      ],
      "text/plain": [
       "             trending_date         publish_time time_till_trending  \\\n",
       "0      2017-11-14T00:00:00  2017-11-13T17:13:01    0 days 06:46:59   \n",
       "1      2017-11-14T00:00:00  2017-11-13T07:30:00    0 days 16:30:00   \n",
       "2      2017-11-14T00:00:00  2017-11-12T19:05:24    1 days 04:54:36   \n",
       "3      2017-11-14T00:00:00  2017-11-13T11:00:04    0 days 12:59:56   \n",
       "4      2017-11-14T00:00:00  2017-11-12T18:01:41    1 days 05:58:19   \n",
       "...                    ...                  ...                ...   \n",
       "40944  2018-06-14T00:00:00  2018-05-18T13:00:04   26 days 10:59:56   \n",
       "40945  2018-06-14T00:00:00  2018-05-18T01:00:06   26 days 22:59:54   \n",
       "40946  2018-06-14T00:00:00  2018-05-18T17:34:22   26 days 06:25:38   \n",
       "40947  2018-06-14T00:00:00  2018-05-17T17:00:04   27 days 06:59:56   \n",
       "40948  2018-06-14T00:00:00  2018-05-17T17:09:38   27 days 06:50:22   \n",
       "\n",
       "       hours_till_trending  \n",
       "0                 6.783056  \n",
       "1                16.500000  \n",
       "2                28.910000  \n",
       "3                12.998889  \n",
       "4                29.971944  \n",
       "...                    ...  \n",
       "40944           634.998889  \n",
       "40945           646.998333  \n",
       "40946           630.427222  \n",
       "40947           654.998889  \n",
       "40948           654.839444  \n",
       "\n",
       "[40949 rows x 4 columns]"
      ]
     },
     "execution_count": 59,
     "metadata": {},
     "output_type": "execute_result"
    }
   ],
   "source": [
    "videos[['trending_date','publish_time','time_till_trending','hours_till_trending']]"
   ]
  },
  {
   "cell_type": "code",
   "execution_count": 60,
   "id": "53cac40d",
   "metadata": {},
   "outputs": [],
   "source": [
    "videos.to_csv('youtube data/US_videos.csv')"
   ]
  },
  {
   "cell_type": "code",
   "execution_count": 61,
   "id": "6890970f",
   "metadata": {},
   "outputs": [],
   "source": [
    "category = pd.read_json(\"youtube data/US_category_id.json\")\n",
    "category = pd.json_normalize(category['items'])"
   ]
  },
  {
   "cell_type": "code",
   "execution_count": 62,
   "id": "90253d2b",
   "metadata": {},
   "outputs": [],
   "source": [
    "category['id'] = pd.to_numeric(category['id'])\n",
    "#category.to_csv('youtube data/US_videos_category.csv')\n",
    "videos = videos.merge(category,how='inner',left_on='category_id', right_on='id')"
   ]
  },
  {
   "cell_type": "code",
   "execution_count": 9,
   "id": "01cdecca",
   "metadata": {},
   "outputs": [
    {
     "name": "stdout",
     "output_type": "stream",
     "text": [
      "<class 'pandas.core.frame.DataFrame'>\n",
      "Int64Index: 40949 entries, 0 to 40948\n",
      "Data columns (total 26 columns):\n",
      " #   Column                  Non-Null Count  Dtype          \n",
      "---  ------                  --------------  -----          \n",
      " 0   video_id                40949 non-null  object         \n",
      " 1   trending_date           40949 non-null  object         \n",
      " 2   title                   40949 non-null  object         \n",
      " 3   channel_title           40949 non-null  object         \n",
      " 4   category_id             40949 non-null  int64          \n",
      " 5   publish_time            40949 non-null  object         \n",
      " 6   tags                    40949 non-null  object         \n",
      " 7   views                   40949 non-null  int64          \n",
      " 8   likes                   40949 non-null  int64          \n",
      " 9   dislikes                40949 non-null  int64          \n",
      " 10  comment_count           40949 non-null  int64          \n",
      " 11  thumbnail_link          40949 non-null  object         \n",
      " 12  comments_disabled       40949 non-null  bool           \n",
      " 13  ratings_disabled        40949 non-null  bool           \n",
      " 14  video_error_or_removed  40949 non-null  bool           \n",
      " 15  description             40379 non-null  object         \n",
      " 16  like_dislike_ratio      40779 non-null  float64        \n",
      " 17  time_till_trending      40949 non-null  timedelta64[ns]\n",
      " 18  hours_till_trending     40949 non-null  float64        \n",
      " 19  days_till_trending      40949 non-null  float64        \n",
      " 20  kind                    40949 non-null  object         \n",
      " 21  etag                    40949 non-null  object         \n",
      " 22  id                      40949 non-null  int64          \n",
      " 23  snippet.channelId       40949 non-null  object         \n",
      " 24  snippet.title           40949 non-null  object         \n",
      " 25  snippet.assignable      40949 non-null  bool           \n",
      "dtypes: bool(4), float64(3), int64(6), object(12), timedelta64[ns](1)\n",
      "memory usage: 7.3+ MB\n"
     ]
    }
   ],
   "source": [
    "videos.dropna()\n",
    "#videos.to_csv('youtube data/US_videos_complete.csv')\n",
    "videos.info()"
   ]
  },
  {
   "cell_type": "code",
   "execution_count": null,
   "id": "1d3894a0",
   "metadata": {},
   "outputs": [],
   "source": []
  },
  {
   "cell_type": "code",
   "execution_count": 63,
   "id": "b06cfb19",
   "metadata": {
    "scrolled": true
   },
   "outputs": [
    {
     "data": {
      "text/plain": [
       "<seaborn.axisgrid.PairGrid at 0x7fc00ccef2e0>"
      ]
     },
     "execution_count": 63,
     "metadata": {},
     "output_type": "execute_result"
    },
    {
     "data": {
      "image/png": "[encoded data removed]",
      "text/plain": [
       "<Figure size 720x720 with 20 Axes>"
      ]
     },
     "metadata": {
      "needs_background": "light"
     },
     "output_type": "display_data"
    }
   ],
   "source": [
    "# Find relationships among numeric varaibles and potentially linear relationships between likes and dislikes\n",
    "# Multiple linear lines in one pairplot suggests that there might exist linear relationships between \n",
    "# views, likes, dislikes, and # of comments but these relationship might be different within each video category or\n",
    "# are dominated by video content \n",
    "sns.pairplot(videos,vars=videos.columns[7:11])"
   ]
  },
  {
   "cell_type": "code",
   "execution_count": 64,
   "id": "4c70c0d6",
   "metadata": {},
   "outputs": [
    {
     "data": {
      "text/html": [
       "<div>\n",
       "<style scoped>\n",
       "    .dataframe tbody tr th:only-of-type {\n",
       "        vertical-align: middle;\n",
       "    }\n",
       "\n",
       "    .dataframe tbody tr th {\n",
       "        vertical-align: top;\n",
       "    }\n",
       "\n",
       "    .dataframe thead th {\n",
       "        text-align: right;\n",
       "    }\n",
       "</style>\n",
       "<table border=\"1\" class=\"dataframe\">\n",
       "  <thead>\n",
       "    <tr style=\"text-align: right;\">\n",
       "      <th></th>\n",
       "      <th>video_id</th>\n",
       "      <th>trending_date</th>\n",
       "      <th>title</th>\n",
       "      <th>channel_title</th>\n",
       "      <th>category_id</th>\n",
       "      <th>publish_time</th>\n",
       "      <th>tags</th>\n",
       "      <th>views</th>\n",
       "      <th>likes</th>\n",
       "      <th>dislikes</th>\n",
       "      <th>...</th>\n",
       "      <th>like_views_ratio</th>\n",
       "      <th>time_till_trending</th>\n",
       "      <th>hours_till_trending</th>\n",
       "      <th>days_till_trending</th>\n",
       "      <th>kind</th>\n",
       "      <th>etag</th>\n",
       "      <th>id</th>\n",
       "      <th>snippet.channelId</th>\n",
       "      <th>snippet.title</th>\n",
       "      <th>snippet.assignable</th>\n",
       "    </tr>\n",
       "  </thead>\n",
       "  <tbody>\n",
       "    <tr>\n",
       "      <th>31839</th>\n",
       "      <td>7C2z4GqqS5E</td>\n",
       "      <td>2018-06-01T00:00:00</td>\n",
       "      <td>BTS (방탄소년단) 'FAKE LOVE' Official MV</td>\n",
       "      <td>ibighit</td>\n",
       "      <td>10</td>\n",
       "      <td>2018-05-18T09:00:02</td>\n",
       "      <td>[BIGHIT, \"빅히트\", \"방탄소년단\", \"BTS\", \"BANGTAN\", \"방탄...</td>\n",
       "      <td>123010920</td>\n",
       "      <td>5613827</td>\n",
       "      <td>206892</td>\n",
       "      <td>...</td>\n",
       "      <td>0.045637</td>\n",
       "      <td>13 days 14:59:58</td>\n",
       "      <td>326.999444</td>\n",
       "      <td>13.624977</td>\n",
       "      <td>youtube#videoCategory</td>\n",
       "      <td>\"m2yskBQFythfE4irbTIeOgYYfBU/nqRIq97-xe5XRZTxb...</td>\n",
       "      <td>10</td>\n",
       "      <td>UCBR8-60-B28hp2BmDPdntcQ</td>\n",
       "      <td>Music</td>\n",
       "      <td>True</td>\n",
       "    </tr>\n",
       "    <tr>\n",
       "      <th>31796</th>\n",
       "      <td>7C2z4GqqS5E</td>\n",
       "      <td>2018-05-31T00:00:00</td>\n",
       "      <td>BTS (방탄소년단) 'FAKE LOVE' Official MV</td>\n",
       "      <td>ibighit</td>\n",
       "      <td>10</td>\n",
       "      <td>2018-05-18T09:00:02</td>\n",
       "      <td>[BIGHIT, \"빅히트\", \"방탄소년단\", \"BTS\", \"BANGTAN\", \"방탄...</td>\n",
       "      <td>121219886</td>\n",
       "      <td>5595203</td>\n",
       "      <td>205565</td>\n",
       "      <td>...</td>\n",
       "      <td>0.046157</td>\n",
       "      <td>12 days 14:59:58</td>\n",
       "      <td>302.999444</td>\n",
       "      <td>12.624977</td>\n",
       "      <td>youtube#videoCategory</td>\n",
       "      <td>\"m2yskBQFythfE4irbTIeOgYYfBU/nqRIq97-xe5XRZTxb...</td>\n",
       "      <td>10</td>\n",
       "      <td>UCBR8-60-B28hp2BmDPdntcQ</td>\n",
       "      <td>Music</td>\n",
       "      <td>True</td>\n",
       "    </tr>\n",
       "    <tr>\n",
       "      <th>31754</th>\n",
       "      <td>7C2z4GqqS5E</td>\n",
       "      <td>2018-05-30T00:00:00</td>\n",
       "      <td>BTS (방탄소년단) 'FAKE LOVE' Official MV</td>\n",
       "      <td>ibighit</td>\n",
       "      <td>10</td>\n",
       "      <td>2018-05-18T09:00:02</td>\n",
       "      <td>[BIGHIT, \"빅히트\", \"방탄소년단\", \"BTS\", \"BANGTAN\", \"방탄...</td>\n",
       "      <td>115664850</td>\n",
       "      <td>5530568</td>\n",
       "      <td>200995</td>\n",
       "      <td>...</td>\n",
       "      <td>0.047815</td>\n",
       "      <td>11 days 14:59:58</td>\n",
       "      <td>278.999444</td>\n",
       "      <td>11.624977</td>\n",
       "      <td>youtube#videoCategory</td>\n",
       "      <td>\"m2yskBQFythfE4irbTIeOgYYfBU/nqRIq97-xe5XRZTxb...</td>\n",
       "      <td>10</td>\n",
       "      <td>UCBR8-60-B28hp2BmDPdntcQ</td>\n",
       "      <td>Music</td>\n",
       "      <td>True</td>\n",
       "    </tr>\n",
       "    <tr>\n",
       "      <th>31709</th>\n",
       "      <td>7C2z4GqqS5E</td>\n",
       "      <td>2018-05-29T00:00:00</td>\n",
       "      <td>BTS (방탄소년단) 'FAKE LOVE' Official MV</td>\n",
       "      <td>ibighit</td>\n",
       "      <td>10</td>\n",
       "      <td>2018-05-18T09:00:02</td>\n",
       "      <td>[BIGHIT, \"빅히트\", \"방탄소년단\", \"BTS\", \"BANGTAN\", \"방탄...</td>\n",
       "      <td>111882133</td>\n",
       "      <td>5486349</td>\n",
       "      <td>197638</td>\n",
       "      <td>...</td>\n",
       "      <td>0.049037</td>\n",
       "      <td>10 days 14:59:58</td>\n",
       "      <td>254.999444</td>\n",
       "      <td>10.624977</td>\n",
       "      <td>youtube#videoCategory</td>\n",
       "      <td>\"m2yskBQFythfE4irbTIeOgYYfBU/nqRIq97-xe5XRZTxb...</td>\n",
       "      <td>10</td>\n",
       "      <td>UCBR8-60-B28hp2BmDPdntcQ</td>\n",
       "      <td>Music</td>\n",
       "      <td>True</td>\n",
       "    </tr>\n",
       "    <tr>\n",
       "      <th>31669</th>\n",
       "      <td>7C2z4GqqS5E</td>\n",
       "      <td>2018-05-28T00:00:00</td>\n",
       "      <td>BTS (방탄소년단) 'FAKE LOVE' Official MV</td>\n",
       "      <td>ibighit</td>\n",
       "      <td>10</td>\n",
       "      <td>2018-05-18T09:00:02</td>\n",
       "      <td>[BIGHIT, \"빅히트\", \"방탄소년단\", \"BTS\", \"BANGTAN\", \"방탄...</td>\n",
       "      <td>107756615</td>\n",
       "      <td>5439015</td>\n",
       "      <td>194172</td>\n",
       "      <td>...</td>\n",
       "      <td>0.050475</td>\n",
       "      <td>9 days 14:59:58</td>\n",
       "      <td>230.999444</td>\n",
       "      <td>9.624977</td>\n",
       "      <td>youtube#videoCategory</td>\n",
       "      <td>\"m2yskBQFythfE4irbTIeOgYYfBU/nqRIq97-xe5XRZTxb...</td>\n",
       "      <td>10</td>\n",
       "      <td>UCBR8-60-B28hp2BmDPdntcQ</td>\n",
       "      <td>Music</td>\n",
       "      <td>True</td>\n",
       "    </tr>\n",
       "  </tbody>\n",
       "</table>\n",
       "<p>5 rows × 27 columns</p>\n",
       "</div>"
      ],
      "text/plain": [
       "          video_id        trending_date                                title  \\\n",
       "31839  7C2z4GqqS5E  2018-06-01T00:00:00  BTS (방탄소년단) 'FAKE LOVE' Official MV   \n",
       "31796  7C2z4GqqS5E  2018-05-31T00:00:00  BTS (방탄소년단) 'FAKE LOVE' Official MV   \n",
       "31754  7C2z4GqqS5E  2018-05-30T00:00:00  BTS (방탄소년단) 'FAKE LOVE' Official MV   \n",
       "31709  7C2z4GqqS5E  2018-05-29T00:00:00  BTS (방탄소년단) 'FAKE LOVE' Official MV   \n",
       "31669  7C2z4GqqS5E  2018-05-28T00:00:00  BTS (방탄소년단) 'FAKE LOVE' Official MV   \n",
       "\n",
       "      channel_title  category_id         publish_time  \\\n",
       "31839       ibighit           10  2018-05-18T09:00:02   \n",
       "31796       ibighit           10  2018-05-18T09:00:02   \n",
       "31754       ibighit           10  2018-05-18T09:00:02   \n",
       "31709       ibighit           10  2018-05-18T09:00:02   \n",
       "31669       ibighit           10  2018-05-18T09:00:02   \n",
       "\n",
       "                                                    tags      views    likes  \\\n",
       "31839  [BIGHIT, \"빅히트\", \"방탄소년단\", \"BTS\", \"BANGTAN\", \"방탄...  123010920  5613827   \n",
       "31796  [BIGHIT, \"빅히트\", \"방탄소년단\", \"BTS\", \"BANGTAN\", \"방탄...  121219886  5595203   \n",
       "31754  [BIGHIT, \"빅히트\", \"방탄소년단\", \"BTS\", \"BANGTAN\", \"방탄...  115664850  5530568   \n",
       "31709  [BIGHIT, \"빅히트\", \"방탄소년단\", \"BTS\", \"BANGTAN\", \"방탄...  111882133  5486349   \n",
       "31669  [BIGHIT, \"빅히트\", \"방탄소년단\", \"BTS\", \"BANGTAN\", \"방탄...  107756615  5439015   \n",
       "\n",
       "       dislikes  ...  like_views_ratio time_till_trending  \\\n",
       "31839    206892  ...          0.045637   13 days 14:59:58   \n",
       "31796    205565  ...          0.046157   12 days 14:59:58   \n",
       "31754    200995  ...          0.047815   11 days 14:59:58   \n",
       "31709    197638  ...          0.049037   10 days 14:59:58   \n",
       "31669    194172  ...          0.050475    9 days 14:59:58   \n",
       "\n",
       "       hours_till_trending  days_till_trending                   kind  \\\n",
       "31839           326.999444           13.624977  youtube#videoCategory   \n",
       "31796           302.999444           12.624977  youtube#videoCategory   \n",
       "31754           278.999444           11.624977  youtube#videoCategory   \n",
       "31709           254.999444           10.624977  youtube#videoCategory   \n",
       "31669           230.999444            9.624977  youtube#videoCategory   \n",
       "\n",
       "                                                    etag  id  \\\n",
       "31839  \"m2yskBQFythfE4irbTIeOgYYfBU/nqRIq97-xe5XRZTxb...  10   \n",
       "31796  \"m2yskBQFythfE4irbTIeOgYYfBU/nqRIq97-xe5XRZTxb...  10   \n",
       "31754  \"m2yskBQFythfE4irbTIeOgYYfBU/nqRIq97-xe5XRZTxb...  10   \n",
       "31709  \"m2yskBQFythfE4irbTIeOgYYfBU/nqRIq97-xe5XRZTxb...  10   \n",
       "31669  \"m2yskBQFythfE4irbTIeOgYYfBU/nqRIq97-xe5XRZTxb...  10   \n",
       "\n",
       "              snippet.channelId snippet.title  snippet.assignable  \n",
       "31839  UCBR8-60-B28hp2BmDPdntcQ         Music                True  \n",
       "31796  UCBR8-60-B28hp2BmDPdntcQ         Music                True  \n",
       "31754  UCBR8-60-B28hp2BmDPdntcQ         Music                True  \n",
       "31709  UCBR8-60-B28hp2BmDPdntcQ         Music                True  \n",
       "31669  UCBR8-60-B28hp2BmDPdntcQ         Music                True  \n",
       "\n",
       "[5 rows x 27 columns]"
      ]
     },
     "execution_count": 64,
     "metadata": {},
     "output_type": "execute_result"
    }
   ],
   "source": [
    "videos.sort_values(by=['likes'], ascending=False).head()"
   ]
  },
  {
   "cell_type": "code",
   "execution_count": 65,
   "id": "fbceaeaa",
   "metadata": {},
   "outputs": [
    {
     "data": {
      "text/html": [
       "<div>\n",
       "<style scoped>\n",
       "    .dataframe tbody tr th:only-of-type {\n",
       "        vertical-align: middle;\n",
       "    }\n",
       "\n",
       "    .dataframe tbody tr th {\n",
       "        vertical-align: top;\n",
       "    }\n",
       "\n",
       "    .dataframe thead th {\n",
       "        text-align: right;\n",
       "    }\n",
       "</style>\n",
       "<table border=\"1\" class=\"dataframe\">\n",
       "  <thead>\n",
       "    <tr style=\"text-align: right;\">\n",
       "      <th></th>\n",
       "      <th>video_id</th>\n",
       "      <th>trending_date</th>\n",
       "      <th>title</th>\n",
       "      <th>channel_title</th>\n",
       "      <th>category_id</th>\n",
       "      <th>publish_time</th>\n",
       "      <th>tags</th>\n",
       "      <th>views</th>\n",
       "      <th>likes</th>\n",
       "      <th>dislikes</th>\n",
       "      <th>...</th>\n",
       "      <th>like_views_ratio</th>\n",
       "      <th>time_till_trending</th>\n",
       "      <th>hours_till_trending</th>\n",
       "      <th>days_till_trending</th>\n",
       "      <th>kind</th>\n",
       "      <th>etag</th>\n",
       "      <th>id</th>\n",
       "      <th>snippet.channelId</th>\n",
       "      <th>snippet.title</th>\n",
       "      <th>snippet.assignable</th>\n",
       "    </tr>\n",
       "  </thead>\n",
       "  <tbody>\n",
       "    <tr>\n",
       "      <th>31902</th>\n",
       "      <td>VYOjWnS4cMY</td>\n",
       "      <td>2018-06-02T00:00:00</td>\n",
       "      <td>Childish Gambino - This Is America (Official V...</td>\n",
       "      <td>ChildishGambinoVEVO</td>\n",
       "      <td>10</td>\n",
       "      <td>2018-05-06T04:00:07</td>\n",
       "      <td>[Childish Gambino, \"Rap\", \"This Is America\", \"...</td>\n",
       "      <td>225211923</td>\n",
       "      <td>5023450</td>\n",
       "      <td>343541</td>\n",
       "      <td>...</td>\n",
       "      <td>0.022305</td>\n",
       "      <td>26 days 19:59:53</td>\n",
       "      <td>643.998056</td>\n",
       "      <td>26.833252</td>\n",
       "      <td>youtube#videoCategory</td>\n",
       "      <td>\"m2yskBQFythfE4irbTIeOgYYfBU/nqRIq97-xe5XRZTxb...</td>\n",
       "      <td>10</td>\n",
       "      <td>UCBR8-60-B28hp2BmDPdntcQ</td>\n",
       "      <td>Music</td>\n",
       "      <td>True</td>\n",
       "    </tr>\n",
       "    <tr>\n",
       "      <th>31856</th>\n",
       "      <td>VYOjWnS4cMY</td>\n",
       "      <td>2018-06-01T00:00:00</td>\n",
       "      <td>Childish Gambino - This Is America (Official V...</td>\n",
       "      <td>ChildishGambinoVEVO</td>\n",
       "      <td>10</td>\n",
       "      <td>2018-05-06T04:00:07</td>\n",
       "      <td>[Childish Gambino, \"Rap\", \"This Is America\", \"...</td>\n",
       "      <td>220490543</td>\n",
       "      <td>4962403</td>\n",
       "      <td>338105</td>\n",
       "      <td>...</td>\n",
       "      <td>0.022506</td>\n",
       "      <td>25 days 19:59:53</td>\n",
       "      <td>619.998056</td>\n",
       "      <td>25.833252</td>\n",
       "      <td>youtube#videoCategory</td>\n",
       "      <td>\"m2yskBQFythfE4irbTIeOgYYfBU/nqRIq97-xe5XRZTxb...</td>\n",
       "      <td>10</td>\n",
       "      <td>UCBR8-60-B28hp2BmDPdntcQ</td>\n",
       "      <td>Music</td>\n",
       "      <td>True</td>\n",
       "    </tr>\n",
       "    <tr>\n",
       "      <th>31813</th>\n",
       "      <td>VYOjWnS4cMY</td>\n",
       "      <td>2018-05-31T00:00:00</td>\n",
       "      <td>Childish Gambino - This Is America (Official V...</td>\n",
       "      <td>ChildishGambinoVEVO</td>\n",
       "      <td>10</td>\n",
       "      <td>2018-05-06T04:00:07</td>\n",
       "      <td>[Childish Gambino, \"Rap\", \"This Is America\", \"...</td>\n",
       "      <td>217750076</td>\n",
       "      <td>4934188</td>\n",
       "      <td>335462</td>\n",
       "      <td>...</td>\n",
       "      <td>0.022660</td>\n",
       "      <td>24 days 19:59:53</td>\n",
       "      <td>595.998056</td>\n",
       "      <td>24.833252</td>\n",
       "      <td>youtube#videoCategory</td>\n",
       "      <td>\"m2yskBQFythfE4irbTIeOgYYfBU/nqRIq97-xe5XRZTxb...</td>\n",
       "      <td>10</td>\n",
       "      <td>UCBR8-60-B28hp2BmDPdntcQ</td>\n",
       "      <td>Music</td>\n",
       "      <td>True</td>\n",
       "    </tr>\n",
       "    <tr>\n",
       "      <th>31770</th>\n",
       "      <td>VYOjWnS4cMY</td>\n",
       "      <td>2018-05-30T00:00:00</td>\n",
       "      <td>Childish Gambino - This Is America (Official V...</td>\n",
       "      <td>ChildishGambinoVEVO</td>\n",
       "      <td>10</td>\n",
       "      <td>2018-05-06T04:00:07</td>\n",
       "      <td>[Childish Gambino, \"Rap\", \"This Is America\", \"...</td>\n",
       "      <td>210338856</td>\n",
       "      <td>4836448</td>\n",
       "      <td>326902</td>\n",
       "      <td>...</td>\n",
       "      <td>0.022994</td>\n",
       "      <td>23 days 19:59:53</td>\n",
       "      <td>571.998056</td>\n",
       "      <td>23.833252</td>\n",
       "      <td>youtube#videoCategory</td>\n",
       "      <td>\"m2yskBQFythfE4irbTIeOgYYfBU/nqRIq97-xe5XRZTxb...</td>\n",
       "      <td>10</td>\n",
       "      <td>UCBR8-60-B28hp2BmDPdntcQ</td>\n",
       "      <td>Music</td>\n",
       "      <td>True</td>\n",
       "    </tr>\n",
       "    <tr>\n",
       "      <th>31725</th>\n",
       "      <td>VYOjWnS4cMY</td>\n",
       "      <td>2018-05-29T00:00:00</td>\n",
       "      <td>Childish Gambino - This Is America (Official V...</td>\n",
       "      <td>ChildishGambinoVEVO</td>\n",
       "      <td>10</td>\n",
       "      <td>2018-05-06T04:00:07</td>\n",
       "      <td>[Childish Gambino, \"Rap\", \"This Is America\", \"...</td>\n",
       "      <td>205643016</td>\n",
       "      <td>4776680</td>\n",
       "      <td>321493</td>\n",
       "      <td>...</td>\n",
       "      <td>0.023228</td>\n",
       "      <td>22 days 19:59:53</td>\n",
       "      <td>547.998056</td>\n",
       "      <td>22.833252</td>\n",
       "      <td>youtube#videoCategory</td>\n",
       "      <td>\"m2yskBQFythfE4irbTIeOgYYfBU/nqRIq97-xe5XRZTxb...</td>\n",
       "      <td>10</td>\n",
       "      <td>UCBR8-60-B28hp2BmDPdntcQ</td>\n",
       "      <td>Music</td>\n",
       "      <td>True</td>\n",
       "    </tr>\n",
       "  </tbody>\n",
       "</table>\n",
       "<p>5 rows × 27 columns</p>\n",
       "</div>"
      ],
      "text/plain": [
       "          video_id        trending_date  \\\n",
       "31902  VYOjWnS4cMY  2018-06-02T00:00:00   \n",
       "31856  VYOjWnS4cMY  2018-06-01T00:00:00   \n",
       "31813  VYOjWnS4cMY  2018-05-31T00:00:00   \n",
       "31770  VYOjWnS4cMY  2018-05-30T00:00:00   \n",
       "31725  VYOjWnS4cMY  2018-05-29T00:00:00   \n",
       "\n",
       "                                                   title        channel_title  \\\n",
       "31902  Childish Gambino - This Is America (Official V...  ChildishGambinoVEVO   \n",
       "31856  Childish Gambino - This Is America (Official V...  ChildishGambinoVEVO   \n",
       "31813  Childish Gambino - This Is America (Official V...  ChildishGambinoVEVO   \n",
       "31770  Childish Gambino - This Is America (Official V...  ChildishGambinoVEVO   \n",
       "31725  Childish Gambino - This Is America (Official V...  ChildishGambinoVEVO   \n",
       "\n",
       "       category_id         publish_time  \\\n",
       "31902           10  2018-05-06T04:00:07   \n",
       "31856           10  2018-05-06T04:00:07   \n",
       "31813           10  2018-05-06T04:00:07   \n",
       "31770           10  2018-05-06T04:00:07   \n",
       "31725           10  2018-05-06T04:00:07   \n",
       "\n",
       "                                                    tags      views    likes  \\\n",
       "31902  [Childish Gambino, \"Rap\", \"This Is America\", \"...  225211923  5023450   \n",
       "31856  [Childish Gambino, \"Rap\", \"This Is America\", \"...  220490543  4962403   \n",
       "31813  [Childish Gambino, \"Rap\", \"This Is America\", \"...  217750076  4934188   \n",
       "31770  [Childish Gambino, \"Rap\", \"This Is America\", \"...  210338856  4836448   \n",
       "31725  [Childish Gambino, \"Rap\", \"This Is America\", \"...  205643016  4776680   \n",
       "\n",
       "       dislikes  ...  like_views_ratio time_till_trending  \\\n",
       "31902    343541  ...          0.022305   26 days 19:59:53   \n",
       "31856    338105  ...          0.022506   25 days 19:59:53   \n",
       "31813    335462  ...          0.022660   24 days 19:59:53   \n",
       "31770    326902  ...          0.022994   23 days 19:59:53   \n",
       "31725    321493  ...          0.023228   22 days 19:59:53   \n",
       "\n",
       "       hours_till_trending  days_till_trending                   kind  \\\n",
       "31902           643.998056           26.833252  youtube#videoCategory   \n",
       "31856           619.998056           25.833252  youtube#videoCategory   \n",
       "31813           595.998056           24.833252  youtube#videoCategory   \n",
       "31770           571.998056           23.833252  youtube#videoCategory   \n",
       "31725           547.998056           22.833252  youtube#videoCategory   \n",
       "\n",
       "                                                    etag  id  \\\n",
       "31902  \"m2yskBQFythfE4irbTIeOgYYfBU/nqRIq97-xe5XRZTxb...  10   \n",
       "31856  \"m2yskBQFythfE4irbTIeOgYYfBU/nqRIq97-xe5XRZTxb...  10   \n",
       "31813  \"m2yskBQFythfE4irbTIeOgYYfBU/nqRIq97-xe5XRZTxb...  10   \n",
       "31770  \"m2yskBQFythfE4irbTIeOgYYfBU/nqRIq97-xe5XRZTxb...  10   \n",
       "31725  \"m2yskBQFythfE4irbTIeOgYYfBU/nqRIq97-xe5XRZTxb...  10   \n",
       "\n",
       "              snippet.channelId snippet.title  snippet.assignable  \n",
       "31902  UCBR8-60-B28hp2BmDPdntcQ         Music                True  \n",
       "31856  UCBR8-60-B28hp2BmDPdntcQ         Music                True  \n",
       "31813  UCBR8-60-B28hp2BmDPdntcQ         Music                True  \n",
       "31770  UCBR8-60-B28hp2BmDPdntcQ         Music                True  \n",
       "31725  UCBR8-60-B28hp2BmDPdntcQ         Music                True  \n",
       "\n",
       "[5 rows x 27 columns]"
      ]
     },
     "execution_count": 65,
     "metadata": {},
     "output_type": "execute_result"
    }
   ],
   "source": [
    "videos.sort_values(by=['views'],ascending=False).head()"
   ]
  },
  {
   "cell_type": "code",
   "execution_count": 66,
   "id": "1732572a",
   "metadata": {},
   "outputs": [
    {
     "data": {
      "text/plain": [
       "snippet.title\n",
       "Music                    6.201003e+06\n",
       "Film & Animation         3.106250e+06\n",
       "Nonprofits & Activism    2.963884e+06\n",
       "Gaming                   2.620831e+06\n",
       "Entertainment            2.067883e+06\n",
       "Name: views, dtype: float64"
      ]
     },
     "execution_count": 66,
     "metadata": {},
     "output_type": "execute_result"
    }
   ],
   "source": [
    "videos.groupby('snippet.title')['views'].mean().sort_values(ascending=False).head()"
   ]
  },
  {
   "cell_type": "code",
   "execution_count": null,
   "id": "d94140f8",
   "metadata": {},
   "outputs": [],
   "source": [
    "word_bank = pd.DataFrame([Roadtripper,\n",
    "Road trip,\n",
    "Travel,\n",
    "Adventure,\n",
    "Explore,\n",
    "Route planning,\n",
    "Itinerary,\n",
    "Maps,\n",
    "GPS navigation,\n",
    "Scenic routes,\n",
    "Trip planner,\n",
    "Vacation,\n",
    "Roadside attractions,\n",
    "Pit stops,\n",
    "Travel tips,\n",
    "Landmarks,\n",
    "Destinations,\n",
    "Camping,\n",
    "RV travel,\n",
    "Travel apps,\n",
    "Road trip essentials,\n",
    "Cross-country,\n",
    "Budget travel,\n",
    "Family road trip,\n",
    "Solo travel,\n",
    "Scenic drives,\n",
    "Road trip inspiration,\n",
    "Roadside diners,\n",
    "Historical landmarks,\n",
    "Road trip adventures,\n",
    "On-the-road cuisine,\n",
    "Hidden gems,\n",
    "National parks,\n",
    "Outdoor exploration,\n",
    "Road trip destinations,\n",
    "Cross-country travel,\n",
    "Route suggestions,\n",
    "Road trip routes,\n",
    "Travel apps for road trips,\n",
    "GPS navigation apps,\n",
    "Best road trip apps,\n",
    "Road trip planning tools,\n",
    "Packing tips,\n",
    "Road trip gear,\n",
    "Travel safety,\n",
    "Local attractions,\n",
    "Road trip soundtrack,\n",
    "Travel vlog,\n",
    "Travel photography,\n",
    "Budget road trips,\n",
    "Scenic byways,\n",
    "Travel accommodations,\n",
    "Camping spots,\n",
    "Adventure travel,\n",
    "Road trip hacks,\n",
    "Weekend getaways,\n",
    "Family-friendly road trips,\n",
    "Solo road trips,\n",
    "Road trip checklist,\n",
    "Travel essentials])"
   ]
  },
  {
   "cell_type": "code",
   "execution_count": 77,
   "id": "c4cdbf9e",
   "metadata": {},
   "outputs": [
    {
     "data": {
      "text/plain": [
       "count    3210.000000\n",
       "mean        0.041805\n",
       "std         0.030226\n",
       "min         0.000000\n",
       "25%         0.019998\n",
       "50%         0.035524\n",
       "75%         0.055544\n",
       "max         0.228182\n",
       "Name: like_views_ratio, dtype: float64"
      ]
     },
     "execution_count": 77,
     "metadata": {},
     "output_type": "execute_result"
    }
   ],
   "source": [
    "videos[videos['snippet.title']=='People & Blogs']['like_views_ratio'].describe()"
   ]
  },
  {
   "cell_type": "code",
   "execution_count": 46,
   "id": "f0e997ca",
   "metadata": {},
   "outputs": [
    {
     "data": {
      "text/plain": [
       "<seaborn.axisgrid.JointGrid at 0x7fc05886f340>"
      ]
     },
     "execution_count": 46,
     "metadata": {},
     "output_type": "execute_result"
    },
    {
     "data": {
      "image/png": "[encoded data removed]",
      "text/plain": [
       "<Figure size 432x432 with 3 Axes>"
      ]
     },
     "metadata": {
      "needs_background": "light"
     },
     "output_type": "display_data"
    }
   ],
   "source": [
    "sns.jointplot(x='likes',y='views',data=videos[videos['snippet.title']=='Entertainment'])"
   ]
  },
  {
   "cell_type": "code",
   "execution_count": 45,
   "id": "1b95a861",
   "metadata": {},
   "outputs": [
    {
     "data": {
      "text/plain": [
       "<seaborn.axisgrid.JointGrid at 0x7fc035bf0fa0>"
      ]
     },
     "execution_count": 45,
     "metadata": {},
     "output_type": "execute_result"
    },
    {
     "data": {
      "image/png": "[encoded data removed]",
      "text/plain": [
       "<Figure size 432x432 with 3 Axes>"
      ]
     },
     "metadata": {
      "needs_background": "light"
     },
     "output_type": "display_data"
    }
   ],
   "source": [
    "sns.jointplot(x='likes',y='views',data=videos[videos['snippet.title']=='People & Blogs'])"
   ]
  },
  {
   "cell_type": "code",
   "execution_count": 54,
   "id": "2d1bec0d",
   "metadata": {},
   "outputs": [
    {
     "data": {
      "text/plain": [
       "<seaborn.axisgrid.FacetGrid at 0x7fc04e0172e0>"
      ]
     },
     "execution_count": 54,
     "metadata": {},
     "output_type": "execute_result"
    },
    {
     "data": {
      "image/png": "[encoded data removed]",
      "text/plain": [
       "<Figure size 360x360 with 1 Axes>"
      ]
     },
     "metadata": {
      "needs_background": "light"
     },
     "output_type": "display_data"
    }
   ],
   "source": [
    "sns.lmplot(x='likes',y='views',data=df)"
   ]
  },
  {
   "cell_type": "markdown",
   "id": "2ec25810",
   "metadata": {},
   "source": [
    "## Linear Regression"
   ]
  },
  {
   "cell_type": "code",
   "execution_count": 48,
   "id": "ca85c483",
   "metadata": {},
   "outputs": [],
   "source": [
    "# For music category\n",
    "df = videos[videos['snippet.title']=='Entertainment']"
   ]
  },
  {
   "cell_type": "code",
   "execution_count": 78,
   "id": "b141f5a0",
   "metadata": {},
   "outputs": [
    {
     "data": {
      "text/plain": [
       "(array([33.18784263,  4.53752004]), 283778.7803580607)"
      ]
     },
     "execution_count": 78,
     "metadata": {},
     "output_type": "execute_result"
    }
   ],
   "source": [
    "from sklearn.model_selection import train_test_split\n",
    "y = df['views']\n",
    "X = df[['likes','days_till_trending']]\n",
    "X_train, X_test, y_train, y_test = train_test_split(X, y, test_size=0.3, random_state=123)\n",
    "\n",
    "from sklearn.linear_model import LinearRegression\n",
    "lm = LinearRegression()\n",
    "lm.fit(X_train,y_train)\n",
    "lm.coef_, lm.intercept_"
   ]
  },
  {
   "cell_type": "code",
   "execution_count": 79,
   "id": "7e398af2",
   "metadata": {},
   "outputs": [
    {
     "data": {
      "text/plain": [
       "Text(0, 0.5, 'Predicted Y')"
      ]
     },
     "execution_count": 79,
     "metadata": {},
     "output_type": "execute_result"
    },
    {
     "data": {
      "image/png": "[encoded data removed]",
      "text/plain": [
       "<Figure size 432x288 with 1 Axes>"
      ]
     },
     "metadata": {
      "needs_background": "light"
     },
     "output_type": "display_data"
    }
   ],
   "source": [
    "predictions = lm.predict( X_test)\n",
    "plt.scatter(y_test,predictions)\n",
    "plt.xlabel('Y Test')\n",
    "plt.ylabel('Predicted Y')"
   ]
  },
  {
   "cell_type": "markdown",
   "id": "d6a2955e",
   "metadata": {},
   "source": [
    "## 10-fold Cross Validation"
   ]
  },
  {
   "cell_type": "code",
   "execution_count": 80,
   "id": "8a668fbf",
   "metadata": {},
   "outputs": [],
   "source": [
    "from sklearn.model_selection import cross_val_score\n",
    "score = cross_val_score(lm,X,y,cv=10)"
   ]
  },
  {
   "cell_type": "code",
   "execution_count": 81,
   "id": "26bd7897",
   "metadata": {},
   "outputs": [
    {
     "data": {
      "text/plain": [
       "array([0.87477128, 0.90201926, 0.61246478, 0.19817445, 0.33435067,\n",
       "       0.63502462, 0.665436  , 0.80892921, 0.7683424 , 0.71093142])"
      ]
     },
     "execution_count": 81,
     "metadata": {},
     "output_type": "execute_result"
    }
   ],
   "source": [
    "score"
   ]
  },
  {
   "cell_type": "code",
   "execution_count": 82,
   "id": "3d78c88f",
   "metadata": {},
   "outputs": [
    {
     "data": {
      "text/plain": [
       "0.6510444093717931"
      ]
     },
     "execution_count": 82,
     "metadata": {},
     "output_type": "execute_result"
    }
   ],
   "source": [
    "score.mean()"
   ]
  },
  {
   "cell_type": "code",
   "execution_count": null,
   "id": "532043d9",
   "metadata": {},
   "outputs": [],
   "source": []
  }
 ],
 "metadata": {
  "kernelspec": {
   "display_name": "Python 3 (ipykernel)",
   "language": "python",
   "name": "python3"
  },
  "language_info": {
   "codemirror_mode": {
    "name": "ipython",
    "version": 3
   },
   "file_extension": ".py",
   "mimetype": "text/x-python",
   "name": "python",
   "nbconvert_exporter": "python",
   "pygments_lexer": "ipython3",
   "version": "3.9.12"
  }
 },
 "nbformat": 4,
 "nbformat_minor": 5
}
